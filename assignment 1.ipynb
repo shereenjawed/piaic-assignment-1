{
 "cells": [
  {
   "cell_type": "code",
   "execution_count": 1,
   "id": "d6516e7f",
   "metadata": {},
   "outputs": [
    {
     "name": "stdout",
     "output_type": "stream",
     "text": [
      "Enter First Number 8\n",
      "Enter Second Number 4\n",
      "12\n",
      "4\n",
      "32\n",
      "2.0\n"
     ]
    }
   ],
   "source": [
    "a = int(input(\"Enter First Number \"))\n",
    "b = int(input(\"Enter Second Number \"))\n",
    "\n",
    "print (a+b)\n",
    "print (a-b)\n",
    "print (a*b)\n",
    "print (a/b)"
   ]
  },
  {
   "cell_type": "code",
   "execution_count": 2,
   "id": "dea868e3",
   "metadata": {},
   "outputs": [
    {
     "name": "stdout",
     "output_type": "stream",
     "text": [
      "Enter your first name shereen\n",
      "Enter second name jawed\n",
      "shereen jawed\n"
     ]
    }
   ],
   "source": [
    "c = input(\"Enter your first name \")\n",
    "d = input(\"Enter second name \")\n",
    "\n",
    "print (c +\" \"+ d)"
   ]
  },
  {
   "cell_type": "code",
   "execution_count": null,
   "id": "e92d2681",
   "metadata": {},
   "outputs": [],
   "source": []
  }
 ],
 "metadata": {
  "kernelspec": {
   "display_name": "Python 3 (ipykernel)",
   "language": "python",
   "name": "python3"
  },
  "language_info": {
   "codemirror_mode": {
    "name": "ipython",
    "version": 3
   },
   "file_extension": ".py",
   "mimetype": "text/x-python",
   "name": "python",
   "nbconvert_exporter": "python",
   "pygments_lexer": "ipython3",
   "version": "3.9.12"
  }
 },
 "nbformat": 4,
 "nbformat_minor": 5
}
