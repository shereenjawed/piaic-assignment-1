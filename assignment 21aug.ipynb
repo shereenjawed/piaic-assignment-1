{
 "cells": [
  {
   "cell_type": "code",
   "execution_count": 2,
   "id": "2001765a",
   "metadata": {},
   "outputs": [
    {
     "name": "stdout",
     "output_type": "stream",
     "text": [
      "Give Student id: 1001\n",
      "Give Student class:ai or cnc: ai\n",
      "Give Student exam:quiz1 or quiz2 or mid or final mid\n",
      "Marks of shereen in ai mid exam is 80\n"
     ]
    }
   ],
   "source": [
    "\n",
    "class1={\"name\":\"AI\"\n",
    "       }\n",
    "class2={\"name\":\"CNC\"\n",
    "       }\n",
    "students = {\n",
    "\"student_1001\" : {\n",
    "        \"name\" : \"shereen\",\n",
    "        \"class_ai\" : class1, \"marks_ai\" : {\n",
    "            \"quiz1\" : 70,\n",
    "            \"quiz2\" : 65,\n",
    "            \"mid\" : 80,\n",
    "            \"final\" : 55    \n",
    "        },\n",
    "        \"class_cnc\" : class2, \"marks_cnc\":\n",
    "        {\n",
    "            \"quiz1\" : 70,\n",
    "            \"quiz2\" : 85,\n",
    "            \"mid\" : 50,\n",
    "            \"final\" : 75    \n",
    "        }}\n",
    ",\n",
    "\"student_1002\" : {\"name\" : \"saba\",\"class_ai\" : class1, \"marks_ai\" : {\"quiz1\" : 70, \"quiz2\" : 85,  \"mid\" : 80,\n",
    "            \"final\" : 65},\"class_cnc\" : class2, \"marks_cnc\": {\"quiz1\" : 81, \"quiz2\" : 56, \"mid\" : 51, \n",
    "            \"final\" : 56}},\n",
    "\"student_1003\" : {\"name\" : \"fiza\", \"class_ai\" : class1, \"marks_ai\":{\"quiz1\" : 82, \"quiz2\" : 48, \"mid\" : 83,\n",
    "            \"final\" : 58}, \"class_cnc\" : class2, \"marks_cnc\":{\"quiz1\" : 42, \"quiz2\" : 48, \"mid\" : 53,\n",
    "            \"final\" : 58}},\n",
    "\"student_1004\" : {\"name\" : \"rabia\", \"class_ai\" : class1,\"marks_ai\":{\"quiz1\" : 62, \"quiz2\" : 48, \"mid\" : 93,\n",
    "            \"final\" : 58}, \"class_cnc\" : class2, \"marks_cnc\":{\"quiz1\" : 83, \"quiz2\" : 49, \"mid\" : 54,\n",
    "            \"final\" : 59}},\n",
    "\"student_1005\" : {\"name\" : \"hussnain\", \"class_ai\" : class1,\"marks_ai\":{\"quiz1\" : 42, \"quiz2\" : 48, \"mid\" : 63,\n",
    "            \"final\" : 58}, \"class_cnc\" : class2, \"marks_cnc\":{\"quiz1\" : 71, \"quiz2\" : 50, \"mid\" : 55,\n",
    "            \"final\" : 60}},\n",
    "\"student_1006\" : {\"name\" : \"hashim\", \"class_ai\" : class1,\"marks_ai\":{\"quiz1\" : 52, \"quiz2\" : 48, \"mid\" : 57,\n",
    "            \"final\" : 58}, \"class_cnc\" : class2, \"marks_cnc\":{\"quiz1\" : 45, \"quiz2\" : 51, \"mid\" : 56,\n",
    "            \"final\" : 61}},\n",
    "\"student_1007\" : {\"name\" : \"jawed\", \"class_ai\" : class1,\"marks_ai\":{\"quiz1\" : 82, \"quiz2\" : 48, \"mid\" : 54,\n",
    "            \"final\" : 58}, \"class_cnc\" : class2, \"marks_cnc\":{\"quiz1\" : 46, \"quiz2\" : 52, \"mid\" : 57,\n",
    "            \"final\" : 62}},\n",
    "\"student_1008\" : {\"name\" : \"sami\", \"class_ai\" : class1,\"marks_ai\":{\"quiz1\" : 49, \"quiz2\" : 48, \"mid\" : 53,\n",
    "            \"final\" : 58}, \"class_cnc\" : class2, \"marks_cnc\":{\"quiz1\" : 37, \"quiz2\" : 53, \"mid\" : 88,\n",
    "            \"final\" : 63}},\n",
    "\"student_1009\" : {\"name\" : \"aftab\", \"class_ai\" : class1,\"marks_ai\":{\"quiz1\" : 62, \"quiz2\" : 48, \"mid\" : 93,\n",
    "            \"final\" : 58}, \"class_cnc\" : class2, \"marks_cnc\":{\"quiz1\" : 78, \"quiz2\" : 54, \"mid\" : 59,\n",
    "            \"final\" : 64}},\n",
    "\"student_1010\" : {\"name\" : \"ramsha\", \"class_ai\" : class1,\"marks_ai\":{\"quiz1\" : 40, \"quiz2\" : 48, \"mid\" : 53,\n",
    "            \"final\" : 58}, \"class_cnc\" : class2, \"marks_cnc\":{\"quiz1\" : 49, \"quiz2\" : 55, \"mid\" : 60,\n",
    "            \"final\" : 65}}\n",
    "}\n",
    "stud_id = input (\"Give Student id: \")\n",
    "stud_id = \"student_\" + stud_id\n",
    "stud_class = input (\"Give Student class:ai or cnc: \")\n",
    "stud_class_a = \"marks_\" + stud_class\n",
    "stud_class_b = \"class_\" + stud_class\n",
    "stud_exam = input (\"Give Student exam:quiz1 or quiz2 or mid or final \")\n",
    "print (\"Marks of\" , students[stud_id][\"name\"] , \"in\" , stud_class, stud_exam , \"exam is\" , \n",
    "       students[stud_id][stud_class_a][stud_exam])\n"
   ]
  },
  {
   "cell_type": "code",
   "execution_count": null,
   "id": "23140495",
   "metadata": {},
   "outputs": [],
   "source": []
  },
  {
   "cell_type": "code",
   "execution_count": null,
   "id": "af90bb78",
   "metadata": {},
   "outputs": [],
   "source": []
  }
 ],
 "metadata": {
  "kernelspec": {
   "display_name": "Python 3 (ipykernel)",
   "language": "python",
   "name": "python3"
  },
  "language_info": {
   "codemirror_mode": {
    "name": "ipython",
    "version": 3
   },
   "file_extension": ".py",
   "mimetype": "text/x-python",
   "name": "python",
   "nbconvert_exporter": "python",
   "pygments_lexer": "ipython3",
   "version": "3.9.12"
  }
 },
 "nbformat": 4,
 "nbformat_minor": 5
}
